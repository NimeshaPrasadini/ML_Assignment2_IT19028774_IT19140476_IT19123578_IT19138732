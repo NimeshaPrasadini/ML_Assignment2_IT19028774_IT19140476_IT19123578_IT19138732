{
 "cells": [
  {
   "cell_type": "code",
   "execution_count": null,
   "id": "a1ee17f6",
   "metadata": {},
   "outputs": [],
   "source": [
    "#Heart Disease Prediction using Logistic Regression\n",
    "#The classification goal is to predict whether the patient has 10-year risk of future coronary heart disease (CHD)"
   ]
  },
  {
   "cell_type": "code",
   "execution_count": null,
   "id": "437c96a8",
   "metadata": {},
   "outputs": [],
   "source": [
    "import pandas as pd\n",
    "import numpy as np\n",
    "import statsmodels.api as sm\n",
    "import scipy.stats as st\n",
    "import matplotlib.pyplot as plt\n",
    "import seaborn as sn\n",
    "from sklearn.metrics import confusion_matrix\n",
    "import matplotlib.mlab as mlab\n",
    "%matplotlib inline"
   ]
  },
  {
   "cell_type": "code",
   "execution_count": null,
   "id": "db838d59",
   "metadata": {},
   "outputs": [],
   "source": [
    "#IT19028774 - Athapaththu P.N.P.\n",
    "\n",
    "# Loading Heart Data from framingham.csv\n",
    "chd_df=pd.read_csv(\"framingham.csv\")\n",
    "#drop education column\n",
    "chd_df.drop(['education'],axis=1,inplace=True)\n",
    "chd_df.head()"
   ]
  },
  {
   "cell_type": "code",
   "execution_count": null,
   "id": "2abab418",
   "metadata": {},
   "outputs": [],
   "source": [
    "# data shape\n",
    "chd_df.shape\n",
    "\n",
    "# data types\n",
    "chd_df.dtypes"
   ]
  },
  {
   "cell_type": "code",
   "execution_count": null,
   "id": "76b0fa12",
   "metadata": {},
   "outputs": [],
   "source": [
    "#Rename 'male' column name\n",
    "chd_df.rename(columns={'male':'sex_male'},inplace=True)"
   ]
  },
  {
   "cell_type": "code",
   "execution_count": null,
   "id": "8b698c17",
   "metadata": {},
   "outputs": [],
   "source": [
    "#check for dupicate columns\n",
    "duplicate_df = chd_df[chd_df.duplicated()]\n",
    "duplicate_df"
   ]
  },
  {
   "cell_type": "code",
   "execution_count": null,
   "id": "bee9b9e1",
   "metadata": {},
   "outputs": [],
   "source": [
    "#Find missing values\n",
    "chd_df.isnull().sum()"
   ]
  },
  {
   "cell_type": "code",
   "execution_count": null,
   "id": "c10fece1",
   "metadata": {},
   "outputs": [],
   "source": [
    "#Counting total no of rows with missing values\n",
    "count=0\n",
    "for i in chd_df.isnull().sum(axis=1):\n",
    "    if i>0:\n",
    "        count=count+1\n",
    "print('Total number of rows with missing values =', count)\n",
    "print('Percentage of rows with missing values in the dataset =',round((count/len(chd_df.index))*100),'%')\n",
    "print('Therefore, the missing values are eliminated.')"
   ]
  },
  {
   "cell_type": "code",
   "execution_count": null,
   "id": "ba0d360c",
   "metadata": {},
   "outputs": [],
   "source": [
    "#dropping the missing values\n",
    "chd_df.dropna(axis=0,inplace=True)"
   ]
  },
  {
   "cell_type": "code",
   "execution_count": null,
   "id": "4ab4c56a",
   "metadata": {},
   "outputs": [],
   "source": [
    "#Drawing heatmap for dataset\n",
    "plt.figure(figsize=(10,8))\n",
    "sn.heatmap(chd_df.corr(),annot=True,cmap='coolwarm',fmt='.2f',linewidths=2)"
   ]
  },
  {
   "cell_type": "code",
   "execution_count": null,
   "id": "0e66e920",
   "metadata": {},
   "outputs": [],
   "source": [
    "#Exploratory Analysis by drawing histograms for CHD features\n",
    "def draw_chd_histograms(dataframe, features, rows, cols):\n",
    "    fig_chd=plt.figure(figsize=(20,20))\n",
    "    for i, feature in enumerate(features):\n",
    "        ax_chd=fig_chd.add_subplot(rows,cols,i+1)\n",
    "        dataframe[feature].hist(bins=20,ax=ax_chd,facecolor='maroon')\n",
    "        ax_chd.set_title(feature+\" Visualization\",color='navy')\n",
    "        \n",
    "    fig_chd.tight_layout()  \n",
    "    plt.show()\n",
    "#Call the histogram function\n",
    "draw_chd_histograms(chd_df,chd_df.columns,6,3)"
   ]
  },
  {
   "cell_type": "code",
   "execution_count": null,
   "id": "1667f592",
   "metadata": {},
   "outputs": [],
   "source": [
    "#TenYearCHD feature values counting\n",
    "chd_df.TenYearCHD.value_counts()"
   ]
  },
  {
   "cell_type": "code",
   "execution_count": null,
   "id": "ed2ac6c4",
   "metadata": {},
   "outputs": [],
   "source": [
    "#Plot a graph for the TenYearCHD feature value data \n",
    "sn.countplot(x='TenYearCHD',data=chd_df)"
   ]
  },
  {
   "cell_type": "code",
   "execution_count": null,
   "id": "2a3645bc",
   "metadata": {},
   "outputs": [],
   "source": [
    "print('Therefore, there are',(chd_df.TenYearCHD == 1).sum(),'patients with risk of heart disease and',(chd_df.TenYearCHD == 0).sum(),'patents with no heart disease.')"
   ]
  },
  {
   "cell_type": "code",
   "execution_count": null,
   "id": "a1b60f4d",
   "metadata": {},
   "outputs": [],
   "source": [
    "# Plot graphs for all feature data in the dataframe\n",
    "sn.pairplot(data=chd_df)"
   ]
  },
  {
   "cell_type": "code",
   "execution_count": null,
   "id": "a19dcd4e",
   "metadata": {},
   "outputs": [],
   "source": [
    "#Description of the all feature data in the dataframe\n",
    "#count - no of non-empty values\n",
    "#mean - average (mean) value\n",
    "#std - standard deviation\n",
    "#min - minimum value\n",
    "#25% - 25% percentile\n",
    "#50% - 50% percentile\n",
    "#75% - 75% percentile\n",
    "#max - maximum value\n",
    "chd_df.describe()"
   ]
  },
  {
   "cell_type": "code",
   "execution_count": null,
   "id": "ab457864",
   "metadata": {},
   "outputs": [],
   "source": [
    "#IT19140476 - Gamitha Manawadu\n",
    "sn.distplot(chd_df['age'],color='Yellow',hist_kws={'alpha':1,\"linewidth\": 2}, kde_kws={\"color\": \"k\", \"lw\": 3, \"label\": \"KDE\"})\n",
    "#most of people are form age 40-50 "
   ]
  },
  {
   "cell_type": "code",
   "execution_count": null,
   "id": "615aafb5",
   "metadata": {},
   "outputs": [],
   "source": [
    "#IT19140476 - Gamitha Manawadu\n",
    "fig,ax=plt.subplots(figsize=(24,6))\n",
    "\n",
    "plt.subplot(1, 3, 1)\n",
    "age_bins = [20,30,40,50,60,70,80]\n",
    "chd_df['bin_age']=pd.cut(chd_df['age'], bins=age_bins)\n",
    "g1=sn.countplot(x='bin_age',data=chd_df ,hue='TenYearCHD',palette='plasma',linewidth=3)\n",
    "g1.set_title(\"Age vs Heart Disease\")\n",
    "#The number of people with heart disease are more from the age 41-55\n",
    "#Also most of the people fear heart disease and go for a checkup from age 55-65 and dont have heart disease (Precautions)\n",
    "\n",
    "plt.subplot(1, 3, 2)\n",
    "chol_bins = [100,150,200,250,300,350,400,450]\n",
    "chd_df['bin_chol']=pd.cut(chd_df['totChol'], bins=chol_bins)\n",
    "g2=sn.countplot(x='bin_chol',data=chd_df,hue='TenYearCHD',palette='plasma',linewidth=3)\n",
    "g2.set_title(\"Cholestoral vs Heart Disease\")\n",
    "#Most people get the heart disease with 200-250 cholestrol \n",
    "#The others with cholestrol of above 250 tend to think they have heart disease but the rate of heart disease falls\n",
    "\n",
    "plt.subplot(1, 3, 3)\n",
    "hr_bins = [40,60,80,100,120,140]\n",
    "chd_df['bin_hr']=pd.cut(chd_df['heartRate'], bins=hr_bins)\n",
    "g3=sn.countplot(x='bin_hr',data=chd_df,hue='TenYearCHD',palette='plasma',linewidth=3)\n",
    "g3.set_title(\"Heart Rate vs Heart Disease\")\n",
    "#People who have thalach between 140-180 have a very high chance of getting the heart disease "
   ]
  },
  {
   "cell_type": "code",
   "execution_count": null,
   "id": "13534b25",
   "metadata": {},
   "outputs": [],
   "source": [
    "#IT19123578 - Sanduni Jayamali Gamage\n",
    "fig,ax=plt.subplots(figsize=(24,6))\n",
    "\n",
    "plt.subplot(1, 3, 1)\n",
    "dbp_bins = [40,60,80,100,120,140,160]\n",
    "chd_df['bin_dbp']=pd.cut(chd_df['diaBP'], bins=dbp_bins)\n",
    "g1=sn.countplot(x='bin_dbp',data=chd_df ,hue='TenYearCHD',palette='plasma',linewidth=3)\n",
    "g1.set_title(\"Diastolic Blood Pressure vs Heart Disease\")\n",
    "#People who have Continuous Diastolic Blood Pressure level from 60-100 have a very high chance of getting the heart disease.\n",
    "\n",
    "plt.subplot(1, 3, 2)\n",
    "sbp_bins = [80,100,120,140,160,180,200,220,240,260]\n",
    "chd_df['bin_sbp']=pd.cut(chd_df['sysBP'], bins=sbp_bins)\n",
    "g1=sn.countplot(x='bin_sbp',data=chd_df ,hue='TenYearCHD',palette='plasma',linewidth=3)\n",
    "g1.set_title(\"Systolic Blood Pressure vs Heart Disease\")\n",
    "#People who have Continuous Systolic Blood Pressure level from 100-140 have a very high chance of getting the heart disease.\n",
    "\n",
    "plt.subplot(1, 3, 3)\n",
    "cpd_bins = [0,10,20,30,40,50,60,70]\n",
    "chd_df['bin_cpd']=pd.cut(chd_df['cigsPerDay'], bins=cpd_bins)\n",
    "g1=sn.countplot(x='bin_cpd',data=chd_df ,hue='TenYearCHD',palette='plasma',linewidth=3)\n",
    "g1.set_title(\"Average Number of Cigarettes Smoked Per Day vs Heart Disease\")\n",
    "#People who smokes 0-20 no of cigarettes per day ave a very high chance of getting the heart disease."
   ]
  },
  {
   "cell_type": "code",
   "execution_count": null,
   "id": "4aac6923",
   "metadata": {},
   "outputs": [],
   "source": [
    "#IT19140476 - Gamitha Manawadu\n",
    "fig,ax=plt.subplots(figsize=(24,6))\n",
    "\n",
    "plt.subplot(1, 2, 1)\n",
    "bmi_bins = [0,10,20,30,40,50]\n",
    "chd_df['bmi']=pd.cut(chd_df['BMI'], bins=bmi_bins)\n",
    "x1=sn.countplot(x='bmi',data=chd_df,hue='TenYearCHD',palette='spring',linewidth=3)\n",
    "x1.set_title('BMI vs Heart Disease')\n",
    "#People with BMI value between 20-30 have highest chance of heart disease"
   ]
  },
  {
   "cell_type": "code",
   "execution_count": null,
   "id": "4a828edb",
   "metadata": {},
   "outputs": [],
   "source": [
    "#IT19123578 - Sanduni Jayamali Gamage\n",
    "fig,ax=plt.subplots(figsize=(16,6))\n",
    "plt.subplot(121)\n",
    "s1=sn.boxenplot(x='sex_male',y='age',hue='TenYearCHD',data=chd_df,palette='YlGn',linewidth=3)\n",
    "s1.set_title(\"Figure 1\")\n",
    "#Figure 1 shows  most of females having heart disease range from 40-50yrs and men from 40-60yrs\n",
    "\n",
    "plt.subplot(122)\n",
    "s2=sn.pointplot(x='sex_male',y='age',hue='TenYearCHD',data=chd_df,palette='autumn',capsize=.2)\n",
    "s2.set_title(\"Figure 2\")\n",
    "#Figure 2 shows  mean age for female with heart disease around 54yrs and for males around 51yrs"
   ]
  },
  {
   "cell_type": "code",
   "execution_count": null,
   "id": "bf392aa9",
   "metadata": {},
   "outputs": [],
   "source": [
    "fig,ax=plt.subplots(figsize=(16,6))\n",
    "sn.pointplot(x='age',y='totChol',data=chd_df,color='Lime',hue='TenYearCHD',linestyles=[\"-\", \"--\"])\n",
    "plt.title('Age vs  Total Cholesterol Level ')\n",
    "#People with high Cholesterol tend to have heart disease"
   ]
  },
  {
   "cell_type": "code",
   "execution_count": null,
   "id": "368b27a6",
   "metadata": {},
   "outputs": [],
   "source": [
    "fig,ax=plt.subplots(figsize=(16,6))\n",
    "sn.pointplot(x='age',y='cigsPerDay',data=chd_df,color='Lime',hue='TenYearCHD',linestyles=[\"-\", \"--\"])\n",
    "plt.title('Age vs  Average Number of Cigarettes Smoked Per Day ')\n",
    "#According to the Number of Cigarettes Smoked Per Day tend to have heart disease"
   ]
  },
  {
   "cell_type": "code",
   "execution_count": null,
   "id": "2754c3de",
   "metadata": {},
   "outputs": [],
   "source": [
    "\n",
    "fig,ax=plt.subplots(figsize=(16,6))\n",
    "sn.pointplot(x='age',y='diaBP',data=chd_df,color='Lime',hue='TenYearCHD',linestyles=[\"-\", \"--\"])\n",
    "plt.title('Age vs Diastolic Blood Pressure')\n",
    "#People with heart disease tend to have higher Diastolic Blood Pressure"
   ]
  },
  {
   "cell_type": "code",
   "execution_count": null,
   "id": "724152ff",
   "metadata": {},
   "outputs": [],
   "source": [
    "# IT19138732 - Logistic Regression"
   ]
  },
  {
   "cell_type": "code",
   "execution_count": null,
   "id": "05ea7b5f",
   "metadata": {},
   "outputs": [],
   "source": [
    "#Danuka - IT19138732\n",
    "fig,ax=plt.subplots(figsize=(16,6))\n",
    "sn.pointplot(x='age',y='sysBP',data=chd_df,color='Lime',hue='TenYearCHD',linestyles=[\"-\", \"--\"])\n",
    "plt.title('Age vs Systolic Blood Pressure')\n",
    "#People with heart disease tend to have higher"
   ]
  },
  {
   "cell_type": "code",
   "execution_count": null,
   "id": "05c9f114",
   "metadata": {},
   "outputs": [],
   "source": [
    "#Danuka - IT19138732\n",
    "fig,ax=plt.subplots(figsize=(16,6))\n",
    "sn.lineplot(y='heartRate',x='age',data=chd_df,hue=\"TenYearCHD\",style='TenYearCHD',palette='magma',markers=True, dashes=False,err_style=\"bars\", ci=68)\n",
    "plt.title('Age vs Continuous Heart Rate')"
   ]
  },
  {
   "cell_type": "code",
   "execution_count": null,
   "id": "f15377e9",
   "metadata": {},
   "outputs": [],
   "source": [
    "chd_df.dropna(axis=0,inplace=True)"
   ]
  },
  {
   "cell_type": "code",
   "execution_count": null,
   "id": "08eec1f2",
   "metadata": {},
   "outputs": [],
   "source": [
    "from statsmodels.tools import add_constant as add_constant\n",
    "heart_details_constant = add_constant(chd_df)\n",
    "heart_details_constant.head()"
   ]
  },
  {
   "cell_type": "code",
   "execution_count": null,
   "id": "0528402b",
   "metadata": {},
   "outputs": [],
   "source": [
    "pip install scikit-learn"
   ]
  },
  {
   "cell_type": "code",
   "execution_count": null,
   "id": "eb2296eb",
   "metadata": {},
   "outputs": [],
   "source": [
    "st.chisqprob = lambda chisq, df: st.chi2.sf(chisq, df)\n",
    "col=heart_details_constant.columns[:-1]\n",
    "hd_model=sm.Logit(chd_df.TenYearCHD,heart_details_constant[col])\n",
    "lr_result=hd_model.fit()\n",
    "lr_result.summary()"
   ]
  },
  {
   "cell_type": "code",
   "execution_count": null,
   "id": "f9c85eb2",
   "metadata": {},
   "outputs": [],
   "source": [
    "#feature Selection\n",
    "def backward_elemination (hd_frame,dependent_var,column_list):\n",
    "    while len(column_list)>0 :\n",
    "        model=sm.Logit(dependent_var,hd_frame[column_list])\n",
    "        result=model.fit(disp=0)\n",
    "        largest_pvalue=round(result.pvalues,3).nlargest(1)\n",
    "        if largest_pvalue[0]<(0.05):\n",
    "            return result\n",
    "            break\n",
    "        else:\n",
    "            column_list=column_list.drop(largest_pvalue.index)\n",
    "\n",
    "result=backward_elemination(heart_details_constant,chd_df.TenYearCHD,col)"
   ]
  },
  {
   "cell_type": "code",
   "execution_count": null,
   "id": "5f615aa7",
   "metadata": {},
   "outputs": [],
   "source": [
    "result.summary()"
   ]
  },
  {
   "cell_type": "code",
   "execution_count": null,
   "id": "f18232cd",
   "metadata": {},
   "outputs": [],
   "source": [
    "hd_params = np.exp(result.params)\n",
    "conf_intervals = np.exp(result.conf_int())\n",
    "conf_intervals['OR'] = hd_params\n",
    "pvalue=round(result.pvalues,3)\n",
    "conf_intervals['pvalue']=pvalue\n",
    "conf_intervals.columns = ['CI 95%(2.5%)', 'CI 95%(97.5%)', 'Odds Ratio','pvalue']\n",
    "print ((conf_intervals))"
   ]
  },
  {
   "cell_type": "code",
   "execution_count": null,
   "id": "2deeaed0",
   "metadata": {},
   "outputs": [],
   "source": [
    "import sklearn\n",
    "new_hd_features=chd_df[['age','male','cigsPerDay','totChol','sysBP','glucose','TenYearCHD']]\n",
    "x=new_hd_features.iloc[:,:-1]\n",
    "y=new_hd_features.iloc[:,-1]\n",
    "from sklearn.model_selection import train_test_split\n",
    "x_train,x_test,y_train,y_test=train_test_split(x,y,test_size=.20,random_state=5)\n",
    "print(x_train,x_test,y_train,y_test)"
   ]
  },
  {
   "cell_type": "code",
   "execution_count": null,
   "id": "984374bb",
   "metadata": {},
   "outputs": [],
   "source": [
    "from sklearn.linear_model import LogisticRegression\n",
    "logistic_reg=LogisticRegression()\n",
    "logistic_reg.fit(x_train,y_train)\n",
    "y_prediction=logistic_reg.predict(x_test)\n",
    "print(y_prediction)"
   ]
  },
  {
   "cell_type": "code",
   "execution_count": null,
   "id": "a2ed3e39",
   "metadata": {},
   "outputs": [],
   "source": [
    "plt.scatter(y_test, y_prediction)"
   ]
  },
  {
   "cell_type": "code",
   "execution_count": null,
   "id": "2ed9fc34",
   "metadata": {},
   "outputs": [],
   "source": [
    "plt.hist(y_test - y_prediction)"
   ]
  },
  {
   "cell_type": "code",
   "execution_count": null,
   "id": "d9dc04c3",
   "metadata": {},
   "outputs": [],
   "source": [
    "#sanduni-IT19123578\n",
    "sklearn.metrics.accuracy_score(y_test,y_prediction)"
   ]
  },
  {
   "cell_type": "code",
   "execution_count": null,
   "id": "29a7df94",
   "metadata": {},
   "outputs": [],
   "source": [
    " #sanduni-IT19123578\n",
    "from sklearn.metrics import confusion_matrix\n",
    "cm=confusion_matrix(y_test,y_prediction)\n",
    "conf_matrix=pd.DataFrame(data=cm,columns=['Predicted:0','Predicted:1'],index=['Actual:0','Actual:1'])\n",
    "plt.figure(figsize = (8,5))\n",
    "sn.heatmap(conf_matrix, annot=True,fmt='d',cmap=\"YlGnBu\")"
   ]
  }
 ],
 "metadata": {
  "interpreter": {
   "hash": "a2ab3825ac7005fb7b26f112e9c99ae62f464c629e30b0d534c3b931b6cbc3ff"
  },
  "kernelspec": {
   "display_name": "Python 3.8.5 ('base')",
   "language": "python",
   "name": "python3"
  },
  "language_info": {
   "codemirror_mode": {
    "name": "ipython",
    "version": 3
   },
   "file_extension": ".py",
   "mimetype": "text/x-python",
   "name": "python",
   "nbconvert_exporter": "python",
   "pygments_lexer": "ipython3",
   "version": "3.8.5"
  }
 },
 "nbformat": 4,
 "nbformat_minor": 5
}
